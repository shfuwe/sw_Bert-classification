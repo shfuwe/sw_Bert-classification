{
 "cells": [
  {
   "cell_type": "code",
   "execution_count": null,
   "metadata": {},
   "outputs": [],
   "source": [
    "import xlsxwriter\n",
    "def list2excel(path, list_):\n",
    "    print(\"store_excel:\")\n",
    "    f = xlsxwriter.Workbook(path)  # 创建工作簿\n",
    "    worksheet1 = f.add_worksheet(u'sheet1')  # 创建sheet1\n",
    "    h = len(list_)  # h为行数，l为列数\n",
    "    w = len(list_[0])\n",
    "    print(\"h=\" + str(h), \"w=\" + str(w))\n",
    "    for i in range(h):\n",
    "        for j in range(w):\n",
    "            worksheet1.write(i, j, list_[i][j])\n",
    "    f.close()"
   ]
  },
  {
   "cell_type": "code",
   "execution_count": 6,
   "metadata": {},
   "outputs": [
    {
     "name": "stdout",
     "output_type": "stream",
     "text": [
      "蔡司助力TRW汽车确保其转向部件的质量\n",
      "汽车制造网\n"
     ]
    }
   ],
   "source": [
    "import jsonlines\n",
    "def make(ta):\n",
    "    n=[]\n",
    "    path='../data/json/news_'+ta+'.jsonl'\n",
    "    lines=jsonlines.open(path)\n",
    "    lines=[i for i in lines]\n",
    "    for i in lines:\n",
    "        nn=[]\n",
    "        nn.append(i['web_source'])\n",
    "        nn.append(i['title'])\n",
    "        n.append(nn)\n",
    "    list2excel('../data/json/news_'+ta+'.xlsx',n)\n",
    "\n",
    "\n"
   ]
  },
  {
   "cell_type": "code",
   "execution_count": null,
   "metadata": {},
   "outputs": [],
   "source": [
    "n=make('新能源汽车')"
   ]
  }
 ],
 "metadata": {
  "kernelspec": {
   "display_name": "sw0",
   "language": "python",
   "name": "sw0"
  },
  "language_info": {
   "codemirror_mode": {
    "name": "ipython",
    "version": 3
   },
   "file_extension": ".py",
   "mimetype": "text/x-python",
   "name": "python",
   "nbconvert_exporter": "python",
   "pygments_lexer": "ipython3",
   "version": "3.7.11"
  }
 },
 "nbformat": 4,
 "nbformat_minor": 2
}
