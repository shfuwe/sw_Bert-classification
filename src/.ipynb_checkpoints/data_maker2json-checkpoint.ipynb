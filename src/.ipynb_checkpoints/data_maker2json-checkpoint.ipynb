{
 "cells": [
  {
   "cell_type": "code",
   "execution_count": 24,
   "metadata": {},
   "outputs": [],
   "source": [
    "import xlrd\n",
    "\n",
    "def read_excel(path):\n",
    "    data0 = xlrd.open_workbook(path)  ##获取文本对象\n",
    "    sheets_name = data0.sheet_names()\n",
    "#     print(sheets_name)\n",
    "    sheet_num=len(sheets_name)\n",
    "    dic={}\n",
    "    for i in range(sheet_num):\n",
    "        sheet_name=sheets_name[i]\n",
    "        table = data0.sheets()[i]  ###根据index获取某个sheet\n",
    "        rows = table.nrows  ##3获取当前sheet页面的总行数,把每一行数据作为list放到 list\n",
    "        result = []\n",
    "        for i in range(rows):\n",
    "            col = table.row_values(i)  ##获取每一列数据\n",
    "            # print(col)\n",
    "            result.append(col[0])\n",
    "        dic[sheet_name]=result\n",
    "        # print(result)\n",
    "    return dic"
   ]
  },
  {
   "cell_type": "code",
   "execution_count": 25,
   "metadata": {},
   "outputs": [],
   "source": [
    "old_data=read_excel('../data/json/数据12.27.xlsx')"
   ]
  },
  {
   "cell_type": "code",
   "execution_count": 26,
   "metadata": {},
   "outputs": [],
   "source": [
    "import jsonlines\n",
    "from tqdm import tqdm\n",
    "\n",
    "def json2list(path):\n",
    "    lines=jsonlines.open(path)\n",
    "    l=[i['title'] for i in lines]\n",
    "    return l\n",
    "    \n"
   ]
  },
  {
   "cell_type": "code",
   "execution_count": 27,
   "metadata": {},
   "outputs": [
    {
     "name": "stdout",
     "output_type": "stream",
     "text": [
      "dict_keys(['ICT', '新能源汽车', '生物医药', '医疗器械', '钢铁', '能源', '工业机器人', '先进轨道交通', '半导体', '高端设备', '工业软件', '人工智能', '数控机床', '稀土'])\n",
      "ICT 1184\n",
      "新能源汽车 3529\n",
      "生物医药 863\n",
      "医疗器械 364\n",
      "钢铁 502\n",
      "能源 1601\n",
      "工业机器人 1025\n",
      "先进轨道交通 397\n",
      "半导体 416\n",
      "高端设备 299\n",
      "工业软件 1000\n",
      "人工智能 796\n",
      "数控机床 1000\n",
      "稀土 1002\n",
      "['ICT', '新能源汽车', '生物医药', '医疗器械', '钢铁', '能源', '工业机器人', '先进轨道交通', '半导体', '高端设备', '工业软件', '人工智能', '数控机床', '稀土']\n"
     ]
    }
   ],
   "source": [
    "print(old_data.keys())\n",
    "for i in old_data:\n",
    "    print(i,len(old_data[i]))\n",
    "type_con=list(old_data.keys())\n",
    "print(type_con)"
   ]
  },
  {
   "cell_type": "code",
   "execution_count": 31,
   "metadata": {},
   "outputs": [],
   "source": [
    "guolv={'工业机器人':['机器人'],\n",
    "      '数控机床':['机床'],\n",
    "      '工业软件':['软件'],\n",
    "      '高端设备':['机'],\n",
    "      '半导体':['半导体'],\n",
    "      '人工智能':['人工智能'],\n",
    "      '稀土':['稀土']}"
   ]
  },
  {
   "cell_type": "code",
   "execution_count": 32,
   "metadata": {},
   "outputs": [
    {
     "name": "stdout",
     "output_type": "stream",
     "text": [
      "ICT 1184\n",
      "新能源汽车 3529\n",
      "生物医药 863\n",
      "医疗器械 364\n",
      "钢铁 502\n",
      "能源 1601\n",
      "工业机器人 1025\n",
      "先进轨道交通 397\n",
      "半导体 416\n",
      "高端设备 96\n",
      "工业软件 157\n",
      "人工智能 70\n",
      "数控机床 81\n",
      "稀土 1002\n"
     ]
    }
   ],
   "source": [
    "laji=['高端设备','工业软件','人工智能','数控机床']\n",
    "for i in laji:\n",
    "    old_l=list(old_data[i])\n",
    "    new_l=[]\n",
    "    for j in old_l:\n",
    "        f=0\n",
    "        for ci in guolv[i]:\n",
    "            if ci in j:\n",
    "                f=1\n",
    "                break\n",
    "        if f==1:\n",
    "            new_l.append(j)\n",
    "    old_data[i]=new_l\n",
    "for i in old_data:\n",
    "    print(i,len(old_data[i]))"
   ]
  },
  {
   "cell_type": "code",
   "execution_count": null,
   "metadata": {},
   "outputs": [],
   "source": []
  },
  {
   "cell_type": "code",
   "execution_count": 35,
   "metadata": {},
   "outputs": [],
   "source": [
    "    \n",
    "table={} \n",
    "\n",
    "# table['汽车']=json2list('../data/json/news_新能源汽车.jsonl')\n",
    "table['数控机床']=json2list('../data/json/2/news_数控机床.jsonl')\n",
    "table['工业机器人']=json2list('../data/json/2/news_工业机器人.jsonl')\n",
    "\n",
    "table['工业软件']=json2list('../data/json/2/news_工业软件.jsonl')\n",
    "table['高端设备']=json2list('../data/json/2/news_高端装备.jsonl')\n",
    "table['半导体']=json2list('../data/json/2/news_半导体.jsonl')\n",
    "table['人工智能']=json2list('../data/json/2/news_人工智能.jsonl')\n",
    "table['稀土']=json2list('../data/json/2/news_稀土.jsonl')"
   ]
  },
  {
   "cell_type": "code",
   "execution_count": 36,
   "metadata": {},
   "outputs": [
    {
     "name": "stdout",
     "output_type": "stream",
     "text": [
      "数控机床 2022\n",
      "工业机器人 7042\n",
      "工业软件 1101\n",
      "高端设备 333\n",
      "半导体 614\n",
      "人工智能 804\n",
      "稀土 1402\n",
      "____\n",
      "数控机床 133\n",
      "工业机器人 3270\n",
      "工业软件 171\n",
      "高端设备 106\n",
      "半导体 186\n",
      "人工智能 72\n",
      "稀土 1168\n"
     ]
    }
   ],
   "source": [
    "for i in table:\n",
    "    print(i,len(table[i]))\n",
    "    old_l=list(table[i])\n",
    "    new_l=[]\n",
    "    for j in old_l:\n",
    "        f=0\n",
    "        for ci in guolv[i]:\n",
    "            if ci in j:\n",
    "                f=1\n",
    "                break\n",
    "        if f==1:\n",
    "            new_l.append(j)\n",
    "    table[i]=new_l\n",
    "print('____')\n",
    "for i in table:\n",
    "    print(i,len(table[i]))"
   ]
  },
  {
   "cell_type": "code",
   "execution_count": 37,
   "metadata": {},
   "outputs": [
    {
     "name": "stdout",
     "output_type": "stream",
     "text": [
      "ICT 1184\n",
      "新能源汽车 3529\n",
      "生物医药 863\n",
      "医疗器械 364\n",
      "钢铁 502\n",
      "能源 1601\n",
      "工业机器人 4295\n",
      "先进轨道交通 397\n",
      "半导体 602\n",
      "高端设备 202\n",
      "工业软件 328\n",
      "人工智能 142\n",
      "数控机床 214\n",
      "稀土 2170\n"
     ]
    }
   ],
   "source": [
    "for i in old_data:\n",
    "    if i in table:\n",
    "        old_data[i]+=table[i]\n",
    "    print(i,len(old_data[i]))"
   ]
  },
  {
   "cell_type": "code",
   "execution_count": 50,
   "metadata": {},
   "outputs": [
    {
     "name": "stdout",
     "output_type": "stream",
     "text": [
      "store_excel:\n",
      "ICT\n",
      "新能源汽车\n",
      "生物医药\n",
      "医疗器械\n",
      "钢铁\n",
      "能源\n",
      "工业机器人\n",
      "先进轨道交通\n",
      "半导体\n",
      "高端设备\n",
      "工业软件\n",
      "人工智能\n",
      "数控机床\n",
      "稀土\n"
     ]
    }
   ],
   "source": [
    "import xlsxwriter\n",
    "def dic2excel_sheets(path,dic_):\n",
    "    print(\"store_excel:\")\n",
    "    f = xlsxwriter.Workbook(path)  # 创建工作簿\n",
    "    for i in dic_:\n",
    "        print(i)\n",
    "        worksheet1 = f.add_worksheet(i)  # 创建sheet1\n",
    "        h = len(dic_[i])  # h为行数，l为列数\n",
    "        for j in range(h):\n",
    "            dic_i = dic_[i][j]\n",
    "            worksheet1.write(j, 0, str(dic_i))\n",
    "    f.close()\n",
    "date='01.02'\n",
    "dic2excel_sheets('../data/json/数据'+date+'.xlsx',old_data)"
   ]
  },
  {
   "cell_type": "code",
   "execution_count": null,
   "metadata": {},
   "outputs": [],
   "source": []
  },
  {
   "cell_type": "code",
   "execution_count": null,
   "metadata": {},
   "outputs": [],
   "source": []
  }
 ],
 "metadata": {
  "kernelspec": {
   "display_name": "sw0",
   "language": "python",
   "name": "sw0"
  },
  "language_info": {
   "codemirror_mode": {
    "name": "ipython",
    "version": 3
   },
   "file_extension": ".py",
   "mimetype": "text/x-python",
   "name": "python",
   "nbconvert_exporter": "python",
   "pygments_lexer": "ipython3",
   "version": "3.7.11"
  }
 },
 "nbformat": 4,
 "nbformat_minor": 2
}
